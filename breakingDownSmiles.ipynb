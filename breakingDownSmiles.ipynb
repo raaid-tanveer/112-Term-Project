{
 "metadata": {
  "language_info": {
   "codemirror_mode": {
    "name": "ipython",
    "version": 3
   },
   "file_extension": ".py",
   "mimetype": "text/x-python",
   "name": "python",
   "nbconvert_exporter": "python",
   "pygments_lexer": "ipython3",
   "version": "3.7.7-final"
  },
  "orig_nbformat": 2,
  "kernelspec": {
   "name": "Python 3.7.7 64-bit ('base': conda)",
   "display_name": "Python 3.7.7 64-bit ('base': conda)",
   "metadata": {
    "interpreter": {
     "hash": "eabd7e05b8a0bf834bb0de34a4f064326238c2a107d457f0919a59dcd0d8d75a"
    }
   }
  }
 },
 "nbformat": 4,
 "nbformat_minor": 2,
 "cells": [
  {
   "cell_type": "code",
   "execution_count": 5,
   "metadata": {},
   "outputs": [],
   "source": [
    "import numpy as np\n",
    "import sys"
   ]
  },
  {
   "source": [
    "# SMILES\n",
    "Check out: https://chem.libretexts.org/Courses/University_of_Arkansas_Little_Rock/ChemInformatics_(2017)%3A_Chem_4399%2F%2F5399/2.3%3A_Chemical_Representations_on_Computer%3A_Part_III \n",
    "In order to understand the input format"
   ],
   "cell_type": "markdown",
   "metadata": {}
  },
  {
   "cell_type": "code",
   "execution_count": 6,
   "metadata": {},
   "outputs": [],
   "source": [
    "smilesString = \"\""
   ]
  },
  {
   "cell_type": "code",
   "execution_count": 7,
   "metadata": {},
   "outputs": [],
   "source": [
    "# Examples below:\n",
    "smString1 = \"CC(CCC(=O)N)CN\" #5-amino-4-methylpentanamide"
   ]
  },
  {
   "source": [
    "# Breaking down SMILES strings"
   ],
   "cell_type": "markdown",
   "metadata": {}
  },
  {
   "cell_type": "code",
   "execution_count": 10,
   "metadata": {},
   "outputs": [],
   "source": [
    "from collections import OrderedDict"
   ]
  },
  {
   "cell_type": "code",
   "execution_count": 26,
   "metadata": {},
   "outputs": [],
   "source": [
    "smileString = \"CCH\""
   ]
  },
  {
   "cell_type": "code",
   "execution_count": 37,
   "metadata": {},
   "outputs": [],
   "source": [
    "def smileStrToGraph(s):\n",
    "    if s[0] == 'H': \n",
    "        return [((1,'H'),[])]\n",
    "    if s[0] == 'C': \n",
    "        return [((1,'C'),smileStrToGraph(s[1:]))]"
   ]
  },
  {
   "cell_type": "code",
   "execution_count": 38,
   "metadata": {},
   "outputs": [
    {
     "output_type": "stream",
     "name": "stdout",
     "text": [
      "[((1, 'C'), [((1, 'C'), [((1, 'H'), [])])])]\n"
     ]
    }
   ],
   "source": [
    "print(smileStrToGraph(smileString))"
   ]
  },
  {
   "cell_type": "code",
   "execution_count": null,
   "metadata": {},
   "outputs": [],
   "source": [
    "class simpleOrganicMolecule(object):\n",
    "    def __init__(self):\n",
    "        self.object = dict()\n",
    "\n",
    "    def __getitem__(self, index, location):\n",
    "\n",
    "    def __setitem__(self, ):\n",
    "\n",
    "    def append(self):\n"
   ]
  }
 ]
}